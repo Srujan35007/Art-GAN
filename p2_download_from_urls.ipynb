{
 "cells": [
  {
   "cell_type": "code",
   "execution_count": 1,
   "metadata": {},
   "outputs": [
    {
     "name": "stdout",
     "output_type": "stream",
     "text": [
      "Imports complete\n",
      "No. of links =>  8216\n"
     ]
    }
   ],
   "source": [
    "import time \n",
    "import cv2 \n",
    "import urllib.request as req\n",
    "from tqdm import tqdm\n",
    "print('Imports complete')\n",
    "\n",
    "urls = []\n",
    "with open('Art.txt', 'r') as foo:\n",
    "    urls = foo.readlines()\n",
    "    print('No. of links => ', len(urls))\n",
    "urls.sort()"
   ]
  },
  {
   "cell_type": "code",
   "execution_count": 2,
   "metadata": {},
   "outputs": [
    {
     "name": "stderr",
     "output_type": "stream",
     "text": [
      "100%|████████████████████████████████████████████████████████████████████████████████████████████████████████| 8216/8216 [4:55:42<00:00,  2.16s/it]"
     ]
    },
    {
     "name": "stdout",
     "output_type": "stream",
     "text": [
      "6777\n"
     ]
    },
    {
     "name": "stderr",
     "output_type": "stream",
     "text": [
      "\n"
     ]
    }
   ],
   "source": [
    "count = 0\n",
    "for url in tqdm(urls):\n",
    "    file_name = f'PATH_TO_ART_FOLDER\\\\art_{count}.jpg'\n",
    "    try:\n",
    "        req.urlretrieve(url, file_name)\n",
    "        count+=1\n",
    "    except:\n",
    "        pass\n",
    "print(count)"
   ]
  }
 ],
 "metadata": {
  "kernelspec": {
   "display_name": "Python 3",
   "language": "python",
   "name": "python3"
  },
  "language_info": {
   "codemirror_mode": {
    "name": "ipython",
    "version": 3
   },
   "file_extension": ".py",
   "mimetype": "text/x-python",
   "name": "python",
   "nbconvert_exporter": "python",
   "pygments_lexer": "ipython3",
   "version": "3.7.0"
  }
 },
 "nbformat": 4,
 "nbformat_minor": 4
}
